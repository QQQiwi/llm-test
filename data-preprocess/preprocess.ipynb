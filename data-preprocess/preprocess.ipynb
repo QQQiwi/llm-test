{
 "cells": [
  {
   "cell_type": "code",
   "execution_count": 1,
   "metadata": {},
   "outputs": [],
   "source": [
    "import pandas as pd"
   ]
  },
  {
   "cell_type": "code",
   "execution_count": null,
   "metadata": {},
   "outputs": [],
   "source": [
    "import transformers\n",
    "import textwrap\n",
    "from transformers import LlamaTokenizer, LlamaForCausalLM\n",
    "import os\n",
    "import sys\n",
    "from typing import List\n",
    " \n",
    "from peft import (\n",
    "    LoraConfig,\n",
    "    get_peft_model,\n",
    "    get_peft_model_state_dict,\n",
    "    prepare_model_for_int8_training,\n",
    ")\n",
    " \n",
    "import fire\n",
    "import torch\n",
    "from datasets import load_dataset\n",
    "import pandas as pd\n",
    " \n",
    "import matplotlib.pyplot as plt\n",
    "import matplotlib as mpl\n",
    " \n",
    "DEVICE = \"cuda\" if torch.cuda.is_available() else \"cpu\"\n",
    "DEVICE"
   ]
  },
  {
   "cell_type": "markdown",
   "metadata": {},
   "source": [
    "## Laptop Stats Dataset Preprocessing"
   ]
  },
  {
   "cell_type": "code",
   "execution_count": null,
   "metadata": {},
   "outputs": [],
   "source": [
    "stats_df = pd.read_csv(\"archive/laptop_data.csv\")\n",
    "stats_df = stats_df[stats_df[\"Company\"] == \"Apple\"]\n",
    "\n",
    "def stats_to_string(df):\n",
    "    return f\"\"\"{df[\"Company\"]} {df[\"TypeName\"]} {df[\"Inches\"]}\"\"\", f\"\"\"Ноутбук {df[\"Company\"]} {df[\"TypeName\"]} обладает экраном {df[\"ScreenResolution\"]}, процессором {df[\"Cpu\"]}. Объём его оперативной памяти {df[\"Ram\"]}, его жесткий диск - {df[\"Memory\"]}. Также у него есть графический процессор {df[\"Gpu\"]}. Он весит {df[\"Weight\"]}.\"\"\", df[\"Price\"]\n",
    "    "
   ]
  },
  {
   "cell_type": "code",
   "execution_count": null,
   "metadata": {},
   "outputs": [],
   "source": [
    "model_list, info_list, price_list = [], [], []\n",
    "for idx, row in stats_df.iterrows():\n",
    "    model, info, price = stats_to_string(row)\n",
    "    model_list.append(model)\n",
    "    info_list.append(info)\n",
    "    price_list.append(price)"
   ]
  },
  {
   "cell_type": "code",
   "execution_count": null,
   "metadata": {},
   "outputs": [],
   "source": [
    "stats_df[\"Model\"] = model_list\n",
    "stats_df[\"Info\"] = info_list\n",
    "stats_df[\"Price\"] = price_list"
   ]
  },
  {
   "cell_type": "code",
   "execution_count": null,
   "metadata": {},
   "outputs": [],
   "source": [
    "stats_df.to_csv(\"datasets/stats_df.csv\", index=False)"
   ]
  },
  {
   "cell_type": "markdown",
   "metadata": {},
   "source": [
    "## HuggingFace Dataset creation"
   ]
  },
  {
   "cell_type": "code",
   "execution_count": 50,
   "metadata": {},
   "outputs": [],
   "source": [
    "INPUT_QUESTION = [\n",
    "    \"Расскажи мне про\",\n",
    "    \"Напиши мне характеристики макбука\",\n",
    "    \"Какие параметры у ноутбука\",\n",
    "    \"Какие преимущества есть у\",\n",
    "    \"Чем может похвастаться ноутбук\",\n",
    "    \"Чем хорош макбук\",\n",
    "    \"Чем от других ноутбуков отличается\",\n",
    "    \"Расскажи мне про хороший ноутбук\",\n",
    "    \"Какой ноутбук сейчас может быть очень хорошим?\",\n",
    "    \"Что умеет\",\n",
    "    \"Почему стоит купить\",\n",
    "    \"Какой ноутбук мне порекомендуешь?\",\n",
    "    \"Посоветуй мне мощный макбук.\"\n",
    "]"
   ]
  },
  {
   "cell_type": "code",
   "execution_count": 41,
   "metadata": {},
   "outputs": [],
   "source": [
    "def generate_prompt(question, data_point):\n",
    "    return f\"\"\"Below is an instruction that describes a task, paired with an input that provides further context. Write a response that appropriately completes the request.\n",
    "### Instruction:\n",
    "Answer question of client about advantages and disadvantages of macbook. Tell him about his goods and recommend him to buy it.\n",
    "### Input:\n",
    "{question} {data_point[\"Model\"]}\n",
    "### Response:\n",
    "{data_point[\"Info\"]}\n",
    "Он стоит {data_point[\"Price\"]} рублей.\"\"\""
   ]
  },
  {
   "cell_type": "code",
   "execution_count": 43,
   "metadata": {},
   "outputs": [],
   "source": [
    "df1 = pd.read_csv(\"datasets/stats_df.csv\")\n",
    "df2 = pd.read_csv(\"datasets/i-lite.csv\")\n",
    "df3 = pd.read_csv(\"datasets/istudio-shop.csv\")\n",
    "\n",
    "dfs = [df1, df2, df3]"
   ]
  },
  {
   "cell_type": "code",
   "execution_count": 51,
   "metadata": {},
   "outputs": [],
   "source": [
    "prompts = []\n",
    "for cur_df in dfs:\n",
    "    for _, row in cur_df.iterrows():\n",
    "        for q in INPUT_QUESTION:\n",
    "            prompts.append(generate_prompt(q, row))"
   ]
  },
  {
   "cell_type": "code",
   "execution_count": 53,
   "metadata": {},
   "outputs": [],
   "source": [
    "df = {\"prompt\": prompts}\n",
    "df = pd.DataFrame(df)182\n",
    "df.to_csv(\"prompts.csv\")"
   ]
  },
  {
   "cell_type": "code",
   "execution_count": 54,
   "metadata": {},
   "outputs": [
    {
     "data": {
      "text/html": [
       "<div>\n",
       "<style scoped>\n",
       "    .dataframe tbody tr th:only-of-type {\n",
       "        vertical-align: middle;\n",
       "    }\n",
       "\n",
       "    .dataframe tbody tr th {\n",
       "        vertical-align: top;\n",
       "    }\n",
       "\n",
       "    .dataframe thead th {\n",
       "        text-align: right;\n",
       "    }\n",
       "</style>\n",
       "<table border=\"1\" class=\"dataframe\">\n",
       "  <thead>\n",
       "    <tr style=\"text-align: right;\">\n",
       "      <th></th>\n",
       "      <th>prompt</th>\n",
       "    </tr>\n",
       "  </thead>\n",
       "  <tbody>\n",
       "    <tr>\n",
       "      <th>0</th>\n",
       "      <td>Below is an instruction that describes a task,...</td>\n",
       "    </tr>\n",
       "    <tr>\n",
       "      <th>1</th>\n",
       "      <td>Below is an instruction that describes a task,...</td>\n",
       "    </tr>\n",
       "    <tr>\n",
       "      <th>2</th>\n",
       "      <td>Below is an instruction that describes a task,...</td>\n",
       "    </tr>\n",
       "    <tr>\n",
       "      <th>3</th>\n",
       "      <td>Below is an instruction that describes a task,...</td>\n",
       "    </tr>\n",
       "    <tr>\n",
       "      <th>4</th>\n",
       "      <td>Below is an instruction that describes a task,...</td>\n",
       "    </tr>\n",
       "    <tr>\n",
       "      <th>...</th>\n",
       "      <td>...</td>\n",
       "    </tr>\n",
       "    <tr>\n",
       "      <th>2283</th>\n",
       "      <td>Below is an instruction that describes a task,...</td>\n",
       "    </tr>\n",
       "    <tr>\n",
       "      <th>2284</th>\n",
       "      <td>Below is an instruction that describes a task,...</td>\n",
       "    </tr>\n",
       "    <tr>\n",
       "      <th>2285</th>\n",
       "      <td>Below is an instruction that describes a task,...</td>\n",
       "    </tr>\n",
       "    <tr>\n",
       "      <th>2286</th>\n",
       "      <td>Below is an instruction that describes a task,...</td>\n",
       "    </tr>\n",
       "    <tr>\n",
       "      <th>2287</th>\n",
       "      <td>Below is an instruction that describes a task,...</td>\n",
       "    </tr>\n",
       "  </tbody>\n",
       "</table>\n",
       "<p>2288 rows × 1 columns</p>\n",
       "</div>"
      ],
      "text/plain": [
       "                                                 prompt\n",
       "0     Below is an instruction that describes a task,...\n",
       "1     Below is an instruction that describes a task,...\n",
       "2     Below is an instruction that describes a task,...\n",
       "3     Below is an instruction that describes a task,...\n",
       "4     Below is an instruction that describes a task,...\n",
       "...                                                 ...\n",
       "2283  Below is an instruction that describes a task,...\n",
       "2284  Below is an instruction that describes a task,...\n",
       "2285  Below is an instruction that describes a task,...\n",
       "2286  Below is an instruction that describes a task,...\n",
       "2287  Below is an instruction that describes a task,...\n",
       "\n",
       "[2288 rows x 1 columns]"
      ]
     },
     "execution_count": 54,
     "metadata": {},
     "output_type": "execute_result"
    }
   ],
   "source": [
    "df"
   ]
  },
  {
   "cell_type": "code",
   "execution_count": null,
   "metadata": {},
   "outputs": [],
   "source": []
  }
 ],
 "metadata": {
  "kernelspec": {
   "display_name": "Python 3",
   "language": "python",
   "name": "python3"
  },
  "language_info": {
   "codemirror_mode": {
    "name": "ipython",
    "version": 3
   },
   "file_extension": ".py",
   "mimetype": "text/x-python",
   "name": "python",
   "nbconvert_exporter": "python",
   "pygments_lexer": "ipython3",
   "version": "3.10.12"
  }
 },
 "nbformat": 4,
 "nbformat_minor": 2
}
